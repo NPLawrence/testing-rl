{
 "cells": [
  {
   "cell_type": "markdown",
   "metadata": {},
   "source": [
    "## Results of Cartpole Simulations"
   ]
  },
  {
   "cell_type": "code",
   "execution_count": 1,
   "metadata": {},
   "outputs": [],
   "source": [
    "import os\n",
    "import numpy as np\n",
    "import pandas as pd\n",
    "import matplotlib.pyplot as plt\n",
    "\n",
    "%matplotlib inline"
   ]
  },
  {
   "cell_type": "code",
   "execution_count": 2,
   "metadata": {},
   "outputs": [
    {
     "data": {
      "text/plain": [
       "['.DS_Store']"
      ]
     },
     "execution_count": 2,
     "metadata": {},
     "output_type": "execute_result"
    }
   ],
   "source": [
    "results_dir = 'results'\n",
    "sub_dir = 'CartPole-BT-dL-v0'\n",
    "os.listdir(results_dir)"
   ]
  },
  {
   "cell_type": "code",
   "execution_count": 36,
   "metadata": {},
   "outputs": [
    {
     "data": {
      "text/plain": [
       "['.DS_Store', 'Bayesian optimization', 'Param searches']"
      ]
     },
     "execution_count": 36,
     "metadata": {},
     "output_type": "execute_result"
    }
   ],
   "source": [
    "icloud_doc_dir = \"/Users/billtubbs/Library/Mobile Documents/com~apple~CloudDocs/Documents\"\n",
    "os.listdir(os.path.join(icloud_doc_dir, 'MyDocuments', 'Projects', 'Testing RL', \n",
    "                        'Experiments'))"
   ]
  },
  {
   "cell_type": "markdown",
   "metadata": {},
   "source": [
    "## Functions used in this notebook"
   ]
  },
  {
   "cell_type": "code",
   "execution_count": 85,
   "metadata": {},
   "outputs": [],
   "source": [
    "def cum_rewards_plot(ax, results, x_label, y_label, title='Parameter Search Results'):\n",
    "\n",
    "    param_min_max = {\n",
    "        param: (values.min(), values.max()) \n",
    "        for param, values in param_values.items()\n",
    "    }\n",
    "    \n",
    "    best_rewards = results['Cum Reward'] > -0.01\n",
    "    high_rewards = results['Cum Reward'] > -0.5\n",
    "    low_rewards = results['Cum Reward'] < -10000\n",
    "\n",
    "    x = results.loc[high_rewards, x_label]\n",
    "    y = results.loc[high_rewards, y_label]\n",
    "    ax.scatter(x, y, marker='o', label='R > -1')\n",
    "\n",
    "    x = results.loc[best_rewards, x_label]\n",
    "    y = results.loc[best_rewards, y_label]\n",
    "    ax.scatter(x, y, marker='.', label='R > -0.01')\n",
    "\n",
    "    #x = results.loc[low_rewards, x_label]\n",
    "    #y = results.loc[low_rewards, y_label]\n",
    "    #ax.scatter(x, y, marker='+', label='R < -10,000')\n",
    "\n",
    "    ax.set_title(title)\n",
    "    ax.set_xlim(param_min_max[x_label][0], param_min_max[x_label][1])\n",
    "    ax.set_ylim(param_min_max[y_label][0], param_min_max[y_label][1])\n",
    "    ax.set_xlabel(x_label)\n",
    "    ax.set_ylabel(y_label)\n",
    "    ax.legend()\n",
    "    ax.grid()"
   ]
  },
  {
   "cell_type": "code",
   "execution_count": 92,
   "metadata": {},
   "outputs": [
    {
     "data": {
      "text/plain": [
       "['.DS_Store', 'Bayesian optimization', 'Param searches']"
      ]
     },
     "execution_count": 92,
     "metadata": {},
     "output_type": "execute_result"
    }
   ],
   "source": [
    "results_dir = os.path.join(icloud_doc_dir, 'MyDocuments', 'Projects', 'Testing RL', \n",
    "                        'Experiments')\n",
    "os.listdir(results_dir)"
   ]
  },
  {
   "cell_type": "markdown",
   "metadata": {},
   "source": [
    "## Parameter Search Results"
   ]
  },
  {
   "cell_type": "code",
   "execution_count": 86,
   "metadata": {},
   "outputs": [
    {
     "data": {
      "text/plain": [
       "['.DS_Store',\n",
       " 'CartPole-BT-dL-v0',\n",
       " 'CartPole-BT-v0',\n",
       " 'CartPole-BT-vH-v0',\n",
       " 'CartPole-BT-vL-v0']"
      ]
     },
     "execution_count": 86,
     "metadata": {},
     "output_type": "execute_result"
    }
   ],
   "source": [
    "results_dir = os.path.join(icloud_doc_dir, 'MyDocuments', 'Projects', 'Testing RL', \n",
    "                        'Experiments', 'Param searches')\n",
    "os.listdir(results_dir)"
   ]
  },
  {
   "cell_type": "code",
   "execution_count": 94,
   "metadata": {},
   "outputs": [
    {
     "data": {
      "text/plain": [
       "['.DS_Store', 'bo-2019-10-26.csv']"
      ]
     },
     "execution_count": 94,
     "metadata": {},
     "output_type": "execute_result"
    }
   ],
   "source": [
    "sub_dir = 'CartPole-BT-vL-v0'\n",
    "os.listdir(os.path.join(results_dir, sub_dir))"
   ]
  },
  {
   "cell_type": "markdown",
   "metadata": {},
   "source": [
    "### Grid Search"
   ]
  },
  {
   "cell_type": "code",
   "execution_count": 87,
   "metadata": {},
   "outputs": [
    {
     "data": {
      "text/plain": [
       "194481"
      ]
     },
     "execution_count": 87,
     "metadata": {},
     "output_type": "execute_result"
    }
   ],
   "source": [
    "filename = 'param_sweep_results-2019-10-11.csv'\n",
    "\n",
    "filepath = os.path.join(results_dir, sub_dir, filename)\n",
    "results = pd.read_csv(filepath, header=None)\n",
    "results.columns = ['x0', 'x1', 'x2', 'x3', 'Cum Reward']\n",
    "len(results)"
   ]
  },
  {
   "cell_type": "code",
   "execution_count": 88,
   "metadata": {},
   "outputs": [
    {
     "data": {
      "text/plain": [
       "{'x0': array([-500., -450., -400., -350., -300., -250., -200., -150., -100.,\n",
       "         -50.,    0.,   50.,  100.,  150.,  200.,  250.,  300.,  350.,\n",
       "         400.,  450.,  500.]),\n",
       " 'x1': array([-500., -450., -400., -350., -300., -250., -200., -150., -100.,\n",
       "         -50.,    0.,   50.,  100.,  150.,  200.,  250.,  300.,  350.,\n",
       "         400.,  450.,  500.]),\n",
       " 'x2': array([-2500., -2250., -2000., -1750., -1500., -1250., -1000.,  -750.,\n",
       "         -500.,  -250.,     0.,   250.,   500.,   750.,  1000.,  1250.,\n",
       "         1500.,  1750.,  2000.,  2250.,  2500.]),\n",
       " 'x3': array([-2500., -2250., -2000., -1750., -1500., -1250., -1000.,  -750.,\n",
       "         -500.,  -250.,     0.,   250.,   500.,   750.,  1000.,  1250.,\n",
       "         1500.,  1750.,  2000.,  2250.,  2500.])}"
      ]
     },
     "execution_count": 88,
     "metadata": {},
     "output_type": "execute_result"
    }
   ],
   "source": [
    "param_values = {label: results[label].unique() for label in ['x0', 'x1', 'x2', 'x3']}\n",
    "param_values"
   ]
  },
  {
   "cell_type": "code",
   "execution_count": 89,
   "metadata": {},
   "outputs": [
    {
     "data": {
      "text/plain": [
       "{'x0': (-500.0, 500.0),\n",
       " 'x1': (-500.0, 500.0),\n",
       " 'x2': (-2500.0, 2500.0),\n",
       " 'x3': (-2500.0, 2500.0)}"
      ]
     },
     "execution_count": 89,
     "metadata": {},
     "output_type": "execute_result"
    }
   ],
   "source": [
    "param_min_max = {\n",
    "    param: (values.min(), values.max()) for param, values in param_values.items()\n",
    "}\n",
    "param_min_max"
   ]
  },
  {
   "cell_type": "code",
   "execution_count": 90,
   "metadata": {},
   "outputs": [
    {
     "data": {
      "text/plain": [
       "(-2242385.6744955927, -0.0002442803787247315)"
      ]
     },
     "execution_count": 90,
     "metadata": {},
     "output_type": "execute_result"
    }
   ],
   "source": [
    "results['Cum Reward'].min(), results['Cum Reward'].max()"
   ]
  },
  {
   "cell_type": "code",
   "execution_count": 91,
   "metadata": {},
   "outputs": [
    {
     "data": {
      "image/png": "[encoded data removed]",
      "text/plain": [
       "<Figure size 648x324 with 2 Axes>"
      ]
     },
     "metadata": {
      "needs_background": "light"
     },
     "output_type": "display_data"
    }
   ],
   "source": [
    "fig, axes = plt.subplots(1, 2, figsize=(9, 4.5))\n",
    "\n",
    "cum_rewards_plot(axes[0], results, x_label='x0', y_label='x2')\n",
    "cum_rewards_plot(axes[1], results, x_label='x1', y_label='x3')\n",
    "\n",
    "plt.savefig('param-search-results.png')\n",
    "plt.show()"
   ]
  },
  {
   "cell_type": "markdown",
   "metadata": {},
   "source": [
    "## Bayesian Optimization"
   ]
  },
  {
   "cell_type": "code",
   "execution_count": 95,
   "metadata": {},
   "outputs": [
    {
     "data": {
      "text/plain": [
       "['.DS_Store', 'CartPole-BT-vL-v0']"
      ]
     },
     "execution_count": 95,
     "metadata": {},
     "output_type": "execute_result"
    }
   ],
   "source": [
    "results_dir = os.path.join(icloud_doc_dir, 'MyDocuments', 'Projects', 'Testing RL', \n",
    "                        'Experiments', 'Bayesian optimization')\n",
    "os.listdir(results_dir)"
   ]
  },
  {
   "cell_type": "code",
   "execution_count": 96,
   "metadata": {},
   "outputs": [
    {
     "data": {
      "text/plain": [
       "['.DS_Store', 'bo-2019-10-26.csv']"
      ]
     },
     "execution_count": 96,
     "metadata": {},
     "output_type": "execute_result"
    }
   ],
   "source": [
    "sub_dir = 'CartPole-BT-vL-v0'\n",
    "os.listdir(os.path.join(results_dir, sub_dir))"
   ]
  },
  {
   "cell_type": "code",
   "execution_count": 106,
   "metadata": {},
   "outputs": [
    {
     "data": {
      "text/plain": [
       "111"
      ]
     },
     "execution_count": 106,
     "metadata": {},
     "output_type": "execute_result"
    }
   ],
   "source": [
    "filename = 'bo-2019-10-26.csv'\n",
    "sub_dir = 'CartPole-BT-vL-v0'\n",
    "filepath = os.path.join(results_dir, sub_dir, filename)\n",
    "results = pd.read_csv(filepath, header=None)\n",
    "results.columns = ['Episodes', 'x', 'x_dot', 'theta', 'theta_dot', 'Reward']\n",
    "len(results)"
   ]
  },
  {
   "cell_type": "code",
   "execution_count": 107,
   "metadata": {},
   "outputs": [
    {
     "data": {
      "text/html": [
       "<div>\n",
       "<style scoped>\n",
       "    .dataframe tbody tr th:only-of-type {\n",
       "        vertical-align: middle;\n",
       "    }\n",
       "\n",
       "    .dataframe tbody tr th {\n",
       "        vertical-align: top;\n",
       "    }\n",
       "\n",
       "    .dataframe thead th {\n",
       "        text-align: right;\n",
       "    }\n",
       "</style>\n",
       "<table border=\"1\" class=\"dataframe\">\n",
       "  <thead>\n",
       "    <tr style=\"text-align: right;\">\n",
       "      <th></th>\n",
       "      <th>Episodes</th>\n",
       "      <th>x</th>\n",
       "      <th>x_dot</th>\n",
       "      <th>theta</th>\n",
       "      <th>theta_dot</th>\n",
       "      <th>Reward</th>\n",
       "    </tr>\n",
       "  </thead>\n",
       "  <tbody>\n",
       "    <tr>\n",
       "      <th>0</th>\n",
       "      <td>50</td>\n",
       "      <td>-80.805486</td>\n",
       "      <td>185.219500</td>\n",
       "      <td>-516.162629</td>\n",
       "      <td>194.083670</td>\n",
       "      <td>-11232.176803</td>\n",
       "    </tr>\n",
       "    <tr>\n",
       "      <th>1</th>\n",
       "      <td>75</td>\n",
       "      <td>-50.866779</td>\n",
       "      <td>244.044140</td>\n",
       "      <td>-542.825030</td>\n",
       "      <td>278.447187</td>\n",
       "      <td>-9541.786104</td>\n",
       "    </tr>\n",
       "    <tr>\n",
       "      <th>2</th>\n",
       "      <td>100</td>\n",
       "      <td>-45.419108</td>\n",
       "      <td>272.352793</td>\n",
       "      <td>-536.964409</td>\n",
       "      <td>248.190764</td>\n",
       "      <td>-7075.328202</td>\n",
       "    </tr>\n",
       "    <tr>\n",
       "      <th>3</th>\n",
       "      <td>125</td>\n",
       "      <td>-34.636755</td>\n",
       "      <td>276.998274</td>\n",
       "      <td>-527.699843</td>\n",
       "      <td>247.639437</td>\n",
       "      <td>-5839.947774</td>\n",
       "    </tr>\n",
       "    <tr>\n",
       "      <th>4</th>\n",
       "      <td>150</td>\n",
       "      <td>-34.636755</td>\n",
       "      <td>276.998274</td>\n",
       "      <td>-527.699843</td>\n",
       "      <td>247.639437</td>\n",
       "      <td>-5839.947774</td>\n",
       "    </tr>\n",
       "  </tbody>\n",
       "</table>\n",
       "</div>"
      ],
      "text/plain": [
       "   Episodes          x       x_dot       theta   theta_dot        Reward\n",
       "0        50 -80.805486  185.219500 -516.162629  194.083670 -11232.176803\n",
       "1        75 -50.866779  244.044140 -542.825030  278.447187  -9541.786104\n",
       "2       100 -45.419108  272.352793 -536.964409  248.190764  -7075.328202\n",
       "3       125 -34.636755  276.998274 -527.699843  247.639437  -5839.947774\n",
       "4       150 -34.636755  276.998274 -527.699843  247.639437  -5839.947774"
      ]
     },
     "execution_count": 107,
     "metadata": {},
     "output_type": "execute_result"
    }
   ],
   "source": [
    "results.head()"
   ]
  },
  {
   "cell_type": "code",
   "execution_count": 115,
   "metadata": {},
   "outputs": [
    {
     "data": {
      "image/png": "[encoded data removed]",
      "text/plain": [
       "<Figure size 576x216 with 1 Axes>"
      ]
     },
     "metadata": {
      "needs_background": "light"
     },
     "output_type": "display_data"
    }
   ],
   "source": [
    "plt.figure(figsize=(8, 3))\n",
    "plt.plot(results['Episodes'], -results['Reward'], label='BO')\n",
    "plt.yscale('log')\n",
    "plt.xlabel('Cum. episode count')\n",
    "plt.ylabel('log(Cum. cost)')\n",
    "plt.title('Learning Curves')\n",
    "plt.grid()\n",
    "plt.show()"
   ]
  },
  {
   "cell_type": "code",
   "execution_count": null,
   "metadata": {},
   "outputs": [],
   "source": []
  },
  {
   "cell_type": "code",
   "execution_count": null,
   "metadata": {},
   "outputs": [],
   "source": []
  },
  {
   "cell_type": "code",
   "execution_count": null,
   "metadata": {},
   "outputs": [],
   "source": []
  },
  {
   "cell_type": "code",
   "execution_count": null,
   "metadata": {},
   "outputs": [],
   "source": []
  }
 ],
 "metadata": {
  "kernelspec": {
   "display_name": "Python [conda env:torch]",
   "language": "python",
   "name": "conda-env-torch-py"
  },
  "language_info": {
   "codemirror_mode": {
    "name": "ipython",
    "version": 3
   },
   "file_extension": ".py",
   "mimetype": "text/x-python",
   "name": "python",
   "nbconvert_exporter": "python",
   "pygments_lexer": "ipython3",
   "version": "3.7.4"
  }
 },
 "nbformat": 4,
 "nbformat_minor": 2
}
