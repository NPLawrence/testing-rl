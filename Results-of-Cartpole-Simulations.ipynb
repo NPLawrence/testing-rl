{
 "cells": [
  {
   "cell_type": "markdown",
   "metadata": {},
   "source": [
    "## Results of Cartpole Simulations"
   ]
  },
  {
   "cell_type": "code",
   "execution_count": 22,
   "metadata": {},
   "outputs": [],
   "source": [
    "import os\n",
    "import numpy as np\n",
    "import pandas as pd\n",
    "import matplotlib.pyplot as plt\n",
    "\n",
    "%matplotlib inline"
   ]
  },
  {
   "cell_type": "code",
   "execution_count": 23,
   "metadata": {},
   "outputs": [
    {
     "data": {
      "text/plain": [
       "['CartPole-BT-v0',\n",
       " '.DS_Store',\n",
       " 'CartPole-BT-vH-v0',\n",
       " 'CartPole-BT-vL-v0',\n",
       " 'CartPole-BT-dL-v0']"
      ]
     },
     "execution_count": 23,
     "metadata": {},
     "output_type": "execute_result"
    }
   ],
   "source": [
    "results_dir = 'results'\n",
    "sub_dir = 'CartPole-BT-dL-v0'\n",
    "os.listdir(results_dir)"
   ]
  },
  {
   "cell_type": "code",
   "execution_count": 24,
   "metadata": {},
   "outputs": [
    {
     "data": {
      "text/plain": [
       "194481"
      ]
     },
     "execution_count": 24,
     "metadata": {},
     "output_type": "execute_result"
    }
   ],
   "source": [
    "filename = 'param_sweep_results.csv'\n",
    "filepath = os.path.join(results_dir, sub_dir, filename)\n",
    "results = pd.read_csv(filepath, header=None)\n",
    "results.columns = ['x0', 'x1', 'x2', 'x3', 'Cum Reward']\n",
    "len(results)"
   ]
  },
  {
   "cell_type": "code",
   "execution_count": 19,
   "metadata": {},
   "outputs": [
    {
     "data": {
      "text/html": [
       "<div>\n",
       "<style scoped>\n",
       "    .dataframe tbody tr th:only-of-type {\n",
       "        vertical-align: middle;\n",
       "    }\n",
       "\n",
       "    .dataframe tbody tr th {\n",
       "        vertical-align: top;\n",
       "    }\n",
       "\n",
       "    .dataframe thead th {\n",
       "        text-align: right;\n",
       "    }\n",
       "</style>\n",
       "<table border=\"1\" class=\"dataframe\">\n",
       "  <thead>\n",
       "    <tr style=\"text-align: right;\">\n",
       "      <th></th>\n",
       "      <th>x0</th>\n",
       "      <th>x1</th>\n",
       "      <th>x2</th>\n",
       "      <th>x3</th>\n",
       "      <th>Cum Reward</th>\n",
       "    </tr>\n",
       "  </thead>\n",
       "  <tbody>\n",
       "    <tr>\n",
       "      <td>0</td>\n",
       "      <td>-500.0</td>\n",
       "      <td>-500.0</td>\n",
       "      <td>-2500.0</td>\n",
       "      <td>-2500.0</td>\n",
       "      <td>-2.012882e+06</td>\n",
       "    </tr>\n",
       "    <tr>\n",
       "      <td>1</td>\n",
       "      <td>-500.0</td>\n",
       "      <td>-500.0</td>\n",
       "      <td>-2500.0</td>\n",
       "      <td>-2250.0</td>\n",
       "      <td>-1.945189e+06</td>\n",
       "    </tr>\n",
       "    <tr>\n",
       "      <td>2</td>\n",
       "      <td>-500.0</td>\n",
       "      <td>-500.0</td>\n",
       "      <td>-2500.0</td>\n",
       "      <td>-2000.0</td>\n",
       "      <td>-2.014953e+06</td>\n",
       "    </tr>\n",
       "    <tr>\n",
       "      <td>3</td>\n",
       "      <td>-500.0</td>\n",
       "      <td>-500.0</td>\n",
       "      <td>-2500.0</td>\n",
       "      <td>-1750.0</td>\n",
       "      <td>-1.936088e+06</td>\n",
       "    </tr>\n",
       "    <tr>\n",
       "      <td>4</td>\n",
       "      <td>-500.0</td>\n",
       "      <td>-500.0</td>\n",
       "      <td>-2500.0</td>\n",
       "      <td>-1500.0</td>\n",
       "      <td>-2.011543e+06</td>\n",
       "    </tr>\n",
       "  </tbody>\n",
       "</table>\n",
       "</div>"
      ],
      "text/plain": [
       "      x0     x1      x2      x3    Cum Reward\n",
       "0 -500.0 -500.0 -2500.0 -2500.0 -2.012882e+06\n",
       "1 -500.0 -500.0 -2500.0 -2250.0 -1.945189e+06\n",
       "2 -500.0 -500.0 -2500.0 -2000.0 -2.014953e+06\n",
       "3 -500.0 -500.0 -2500.0 -1750.0 -1.936088e+06\n",
       "4 -500.0 -500.0 -2500.0 -1500.0 -2.011543e+06"
      ]
     },
     "execution_count": 19,
     "metadata": {},
     "output_type": "execute_result"
    }
   ],
   "source": [
    "results.head()"
   ]
  },
  {
   "cell_type": "code",
   "execution_count": 20,
   "metadata": {},
   "outputs": [
    {
     "data": {
      "text/plain": [
       "{'x0': array([-500., -450., -400., -350., -300., -250., -200., -150., -100.,\n",
       "         -50.,    0.,   50.,  100.,  150.,  200.,  250.,  300.,  350.,\n",
       "         400.,  450.,  500.]),\n",
       " 'x1': array([-500., -450., -400., -350., -300., -250., -200., -150., -100.,\n",
       "         -50.,    0.,   50.,  100.,  150.,  200.,  250.,  300.,  350.,\n",
       "         400.,  450.,  500.]),\n",
       " 'x2': array([-2500., -2250., -2000., -1750., -1500., -1250., -1000.,  -750.,\n",
       "         -500.,  -250.,     0.,   250.,   500.,   750.,  1000.,  1250.,\n",
       "         1500.,  1750.,  2000.,  2250.,  2500.]),\n",
       " 'x3': array([-2500., -2250., -2000., -1750., -1500., -1250., -1000.,  -750.,\n",
       "         -500.,  -250.,     0.,   250.,   500.,   750.,  1000.,  1250.,\n",
       "         1500.,  1750.,  2000.,  2250.,  2500.])}"
      ]
     },
     "execution_count": 20,
     "metadata": {},
     "output_type": "execute_result"
    }
   ],
   "source": [
    "param_values = {label: results[label].unique() for label in ['x0', 'x1', 'x2', 'x3']}\n",
    "param_values"
   ]
  },
  {
   "cell_type": "code",
   "execution_count": 28,
   "metadata": {},
   "outputs": [
    {
     "data": {
      "text/plain": [
       "{'x0': (-500.0, 500.0),\n",
       " 'x1': (-500.0, 500.0),\n",
       " 'x2': (-2500.0, 2500.0),\n",
       " 'x3': (-2500.0, 2500.0)}"
      ]
     },
     "execution_count": 28,
     "metadata": {},
     "output_type": "execute_result"
    }
   ],
   "source": [
    "param_min_max = {\n",
    "    param: (values.min(), values.max()) for param, values in param_values.items()\n",
    "}\n",
    "param_min_max"
   ]
  },
  {
   "cell_type": "code",
   "execution_count": 14,
   "metadata": {},
   "outputs": [
    {
     "data": {
      "text/plain": [
       "(-2242385.6744955927, -0.0002442803787247315)"
      ]
     },
     "execution_count": 14,
     "metadata": {},
     "output_type": "execute_result"
    }
   ],
   "source": [
    "results['Cum Reward'].min(), results['Cum Reward'].max()"
   ]
  },
  {
   "cell_type": "code",
   "execution_count": 47,
   "metadata": {},
   "outputs": [
    {
     "data": {
      "image/png": "[encoded data removed]",
      "text/plain": [
       "<Figure size 648x324 with 2 Axes>"
      ]
     },
     "metadata": {
      "needs_background": "light"
     },
     "output_type": "display_data"
    }
   ],
   "source": [
    "def cum_rewards_plot(ax, results, x_label, y_label, title='Parameter Search Results'):\n",
    "\n",
    "    param_min_max = {\n",
    "        param: (values.min(), values.max()) \n",
    "        for param, values in param_values.items()\n",
    "    }\n",
    "    \n",
    "    best_rewards = results['Cum Reward'] > -0.01\n",
    "    high_rewards = results['Cum Reward'] > -0.5\n",
    "\n",
    "    x = results.loc[high_rewards, x_label]\n",
    "    y = results.loc[high_rewards, y_label]\n",
    "    ax.scatter(x, y, marker='o', label='R > -1')\n",
    "\n",
    "    x = results.loc[best_rewards, x_label]\n",
    "    y = results.loc[best_rewards, y_label]\n",
    "    ax.scatter(x, y, marker='.', label='R > -0.01')\n",
    "\n",
    "    ax.set_title(title)\n",
    "    ax.set_xlim(param_min_max[x_label][0], param_min_max[x_label][1])\n",
    "    ax.set_ylim(param_min_max[y_label][0], param_min_max[y_label][1])\n",
    "    ax.set_xlabel(x_label)\n",
    "    ax.set_ylabel(y_label)\n",
    "    ax.legend()\n",
    "    ax.grid()\n",
    "\n",
    "fig, axes = plt.subplots(1, 2, figsize=(9, 4.5))\n",
    "\n",
    "cum_rewards_plot(axes[0], results, x_label='x0', y_label='x2')\n",
    "cum_rewards_plot(axes[1], results, x_label='x1', y_label='x3')\n",
    "\n",
    "plt.savefig('param-search-results.png')\n",
    "plt.show()\n",
    "\n"
   ]
  },
  {
   "cell_type": "code",
   "execution_count": null,
   "metadata": {},
   "outputs": [],
   "source": []
  },
  {
   "cell_type": "code",
   "execution_count": null,
   "metadata": {},
   "outputs": [],
   "source": []
  },
  {
   "cell_type": "code",
   "execution_count": null,
   "metadata": {},
   "outputs": [],
   "source": []
  }
 ],
 "metadata": {
  "kernelspec": {
   "display_name": "Python [conda env:torch]",
   "language": "python",
   "name": "conda-env-torch-py"
  },
  "language_info": {
   "codemirror_mode": {
    "name": "ipython",
    "version": 3
   },
   "file_extension": ".py",
   "mimetype": "text/x-python",
   "name": "python",
   "nbconvert_exporter": "python",
   "pygments_lexer": "ipython3",
   "version": "3.7.4"
  }
 },
 "nbformat": 4,
 "nbformat_minor": 2
}
